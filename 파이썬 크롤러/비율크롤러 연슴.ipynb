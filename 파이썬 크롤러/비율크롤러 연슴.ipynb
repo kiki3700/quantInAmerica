{
 "cells": [
  {
   "cell_type": "code",
   "execution_count": 1,
   "metadata": {},
   "outputs": [],
   "source": [
    "from bs4 import BeautifulSoup\n",
    "import requests\n",
    "import pandas as pd\n",
    "import os\n",
    "import re\n",
    "import time\n",
    "from random import *"
   ]
  },
  {
   "cell_type": "code",
   "execution_count": 2,
   "metadata": {},
   "outputs": [],
   "source": [
    "os.chdir('C:\\\\Users\\\\55754\\\\Documents\\\\야후파이낸스 재무재표')\n",
    "ticker=pd.read_csv('data/ticker/ticker.csv', index_col=0, header=0)\n",
    "#심볼을 리스트 화 해야한다.\n",
    "symbol=ticker['symbol']"
   ]
  },
  {
   "cell_type": "code",
   "execution_count": null,
   "metadata": {},
   "outputs": [],
   "source": []
  },
  {
   "cell_type": "code",
   "execution_count": 258,
   "metadata": {},
   "outputs": [],
   "source": [
    "#연습 #스푸 떴다.\n",
    "i=symbol.iloc[0]\n",
    "url='https://finance.yahoo.com/quote/%s/key-statistics?p=%s' %(i,i)\n",
    "r=requests.get(url)\n",
    "soup=BeautifulSoup(r.text,\"lxml\")"
   ]
  },
  {
   "cell_type": "code",
   "execution_count": 3,
   "metadata": {
    "collapsed": true,
    "jupyter": {
     "outputs_hidden": true
    }
   },
   "outputs": [
    {
     "name": "stdout",
     "output_type": "stream",
     "text": [
      "error in AACG\n",
      "=====7/4836=====\r"
     ]
    },
    {
     "ename": "KeyboardInterrupt",
     "evalue": "",
     "output_type": "error",
     "traceback": [
      "\u001b[1;31m---------------------------------------------------------------------------\u001b[0m",
      "\u001b[1;31mKeyboardInterrupt\u001b[0m                         Traceback (most recent call last)",
      "\u001b[1;32m<ipython-input-3-7934217f2987>\u001b[0m in \u001b[0;36m<module>\u001b[1;34m\u001b[0m\n\u001b[0;32m     21\u001b[0m                 \u001b[0mdf\u001b[0m\u001b[1;33m.\u001b[0m\u001b[0mto_csv\u001b[0m\u001b[1;33m(\u001b[0m\u001b[1;34m'data\\\\statics\\\\%s.csv'\u001b[0m \u001b[1;33m%\u001b[0m\u001b[0mi\u001b[0m\u001b[1;33m)\u001b[0m\u001b[1;33m\u001b[0m\u001b[1;33m\u001b[0m\u001b[0m\n\u001b[1;32m---> 22\u001b[1;33m         \u001b[0mtime\u001b[0m\u001b[1;33m.\u001b[0m\u001b[0msleep\u001b[0m\u001b[1;33m(\u001b[0m\u001b[0mrandint\u001b[0m\u001b[1;33m(\u001b[0m\u001b[1;36m1\u001b[0m\u001b[1;33m,\u001b[0m\u001b[1;36m3\u001b[0m\u001b[1;33m)\u001b[0m\u001b[1;33m*\u001b[0m\u001b[0mrandint\u001b[0m\u001b[1;33m(\u001b[0m\u001b[1;36m2\u001b[0m\u001b[1;33m,\u001b[0m\u001b[1;36m5\u001b[0m\u001b[1;33m)\u001b[0m\u001b[1;33m)\u001b[0m\u001b[1;33m\u001b[0m\u001b[1;33m\u001b[0m\u001b[0m\n\u001b[0m\u001b[0;32m     23\u001b[0m     \u001b[1;32mexcept\u001b[0m \u001b[1;33m:\u001b[0m\u001b[1;33m\u001b[0m\u001b[1;33m\u001b[0m\u001b[0m\n",
      "\u001b[1;31mKeyboardInterrupt\u001b[0m: ",
      "\nDuring handling of the above exception, another exception occurred:\n",
      "\u001b[1;31mKeyboardInterrupt\u001b[0m                         Traceback (most recent call last)",
      "\u001b[1;32m<ipython-input-3-7934217f2987>\u001b[0m in \u001b[0;36m<module>\u001b[1;34m\u001b[0m\n\u001b[0;32m     22\u001b[0m         \u001b[0mtime\u001b[0m\u001b[1;33m.\u001b[0m\u001b[0msleep\u001b[0m\u001b[1;33m(\u001b[0m\u001b[0mrandint\u001b[0m\u001b[1;33m(\u001b[0m\u001b[1;36m1\u001b[0m\u001b[1;33m,\u001b[0m\u001b[1;36m3\u001b[0m\u001b[1;33m)\u001b[0m\u001b[1;33m*\u001b[0m\u001b[0mrandint\u001b[0m\u001b[1;33m(\u001b[0m\u001b[1;36m2\u001b[0m\u001b[1;33m,\u001b[0m\u001b[1;36m5\u001b[0m\u001b[1;33m)\u001b[0m\u001b[1;33m)\u001b[0m\u001b[1;33m\u001b[0m\u001b[1;33m\u001b[0m\u001b[0m\n\u001b[0;32m     23\u001b[0m     \u001b[1;32mexcept\u001b[0m \u001b[1;33m:\u001b[0m\u001b[1;33m\u001b[0m\u001b[1;33m\u001b[0m\u001b[0m\n\u001b[1;32m---> 24\u001b[1;33m         \u001b[0mtime\u001b[0m\u001b[1;33m.\u001b[0m\u001b[0msleep\u001b[0m\u001b[1;33m(\u001b[0m\u001b[1;36m60\u001b[0m\u001b[1;33m)\u001b[0m\u001b[1;33m\u001b[0m\u001b[1;33m\u001b[0m\u001b[0m\n\u001b[0m\u001b[0;32m     25\u001b[0m         \u001b[0mprint\u001b[0m\u001b[1;33m(\u001b[0m\u001b[1;34m\"error in %s\"\u001b[0m \u001b[1;33m%\u001b[0m\u001b[0mi\u001b[0m\u001b[1;33m)\u001b[0m\u001b[1;33m\u001b[0m\u001b[1;33m\u001b[0m\u001b[0m\n\u001b[0;32m     26\u001b[0m     \u001b[0mprint\u001b[0m\u001b[1;33m(\u001b[0m\u001b[1;34m\"=====%d/%d=====\"\u001b[0m \u001b[1;33m%\u001b[0m\u001b[1;33m(\u001b[0m\u001b[0mv\u001b[0m\u001b[1;33m+\u001b[0m\u001b[1;36m1\u001b[0m\u001b[1;33m,\u001b[0m\u001b[0mlen\u001b[0m\u001b[1;33m(\u001b[0m\u001b[0msymbol\u001b[0m\u001b[1;33m)\u001b[0m\u001b[1;33m)\u001b[0m\u001b[1;33m,\u001b[0m \u001b[0mend\u001b[0m\u001b[1;33m=\u001b[0m\u001b[1;34m'\\r'\u001b[0m\u001b[1;33m)\u001b[0m\u001b[1;33m\u001b[0m\u001b[1;33m\u001b[0m\u001b[0m\n",
      "\u001b[1;31mKeyboardInterrupt\u001b[0m: "
     ]
    }
   ],
   "source": [
    "#for i in symbol:\n",
    "for v, i in enumerate(symbol):\n",
    "    url='https://finance.yahoo.com/quote/%s/key-statistics?p=%s' %(i,i)\n",
    "    try :\n",
    "        r=requests.get(url)\n",
    "        soup=BeautifulSoup(r.text,\"lxml\")\n",
    "    #리스트 만들기\n",
    "        l=[]\n",
    "    #테이블당 크롤링\n",
    "        for a in soup.find_all('tbody'):\n",
    "            for b in a.find_all('tr'):\n",
    "                td=b.find_all('td')\n",
    "                content=[td[0].text, td[1].text]\n",
    "                l.append(content)\n",
    "                df=pd.DataFrame(l,columns=[\"index\",'value'])\n",
    "                df['value']=df['value'].str.replace(\"N/A\",'NA')\n",
    "                if True in df['value'].str.endswith(\"M\") :\n",
    "                    df['value'][df['value'].str.endswith(\"M\")]=(pd.to_numeric(df['value'][df['value'].str.endswith(\"M\")].str.replace('M',\"\"))*1000000).astype(\"str\")\n",
    "                if True in df['value'].str.endswith(\"B\") :\n",
    "                    df['value'][df['value'].str.endswith(\"B\")]=(pd.to_numeric(df['value'][df['value'].str.endswith(\"B\")].str.replace('B',\"\"))*1000000000).astype(\"str\")\n",
    "                df.to_csv('data\\\\statics\\\\%s.csv' %i)\n",
    "        time.sleep(randint(1,3)*randint(2,5))\n",
    "    except :\n",
    "        time.sleep(60)\n",
    "        print(\"error in %s\" %i)\n",
    "    print(\"=====%d/%d=====\" %(v+1,len(symbol)), end='\\r')"
   ]
  },
  {
   "cell_type": "code",
   "execution_count": 4,
   "metadata": {},
   "outputs": [
    {
     "name": "stdout",
     "output_type": "stream",
     "text": [
      "error in ACAM====\n",
      "error in ARYB=====\n",
      "error in CEVA=====\n",
      "error in DRAD=====\n",
      "error in FNLC=====\n",
      "error in FRAN6=====\n",
      "error in GPOR6=====\n",
      "error in GRIF6=====\n",
      "error in HDS36=====\n",
      "error in HEBT6=====\n",
      "error in KBLM6=====\n",
      "error in KBLMU=====\n",
      "error in MDWD6=====\n",
      "error in MYL36=====\n",
      "error in OPK36=====\n",
      "error in ORSN6=====\n",
      "error in PDLI6=====\n",
      "error in PRCP6=====\n",
      "error in BITA6=====\n",
      "error in CXO36=====\n",
      "error in FCAU6=====\n",
      "error in FVAC6=====\n",
      "error in FBM36=====\n",
      "error in GRAM6=====\n",
      "error in HTZ36=====\n",
      "error in HCFT6=====\n",
      "error in LGC36=====\n",
      "error in PACD6=====\n",
      "error in IPOB6=====\n",
      "error in TIF36=====\n",
      "error in TRNE6=====\n",
      "=====4836/4836=====\r"
     ]
    }
   ],
   "source": [
    "from bs4 import BeautifulSoup\n",
    "import requests\n",
    "import pandas as pd\n",
    "import os\n",
    "import re\n",
    "import time\n",
    "from random import *\n",
    "\n",
    "os.chdir('C:\\\\Users\\\\55754\\\\Documents\\\\야후파이낸스 재무재표')\n",
    "ticker=pd.read_csv('data/ticker/ticker.csv', index_col=0, header=0)\n",
    "#심볼을 리스트 화 해야한다.\n",
    "symbol=ticker['symbol']\n",
    "#for i in symbol:\n",
    "for v, i in enumerate(symbol):\n",
    "    url='https://finance.yahoo.com/quote/%s/key-statistics?p=%s' %(i,i)\n",
    "    try :\n",
    "        r=requests.get(url)\n",
    "        soup=BeautifulSoup(r.text,\"lxml\")\n",
    "    #리스트 만들기\n",
    "        l=[]\n",
    "    #테이블당 크롤링\n",
    "        for a in soup.find_all('tbody'):\n",
    "            for b in a.find_all('tr'):\n",
    "                td=b.find_all('td')\n",
    "                content=[td[0].text, td[1].text]\n",
    "                l.append(content)\n",
    "                df=pd.DataFrame(l,columns=[\"index\",'value'])\n",
    "                df['value']=df['value'].str.replace(\"N/A\",'NA')\n",
    "                if True in df['value'].str.endswith(\"M\") :\n",
    "                    df['value'][df['value'].str.endswith(\"M\")]=(pd.to_numeric(df['value'][df['value'].str.endswith(\"M\")].str.replace('M',\"\"))*1000000).astype(\"str\")\n",
    "                if True in df['value'].str.endswith(\"B\") :\n",
    "                    df['value'][df['value'].str.endswith(\"B\")]=(pd.to_numeric(df['value'][df['value'].str.endswith(\"B\")].str.replace('B',\"\"))*1000000000).astype(\"str\")\n",
    "                df.to_csv('data\\\\statics\\\\%s.csv' %i)\n",
    "        time.sleep(randint(1,3)*randint(2,5))\n",
    "    except :\n",
    "        time.sleep(60)\n",
    "        print(\"error in %s\" %i)\n",
    "    finally :\n",
    "        print(\"=====%d/%d=====\" %(v+1,len(symbol)), end='\\r')"
   ]
  },
  {
   "cell_type": "code",
   "execution_count": 1,
   "metadata": {},
   "outputs": [
    {
     "name": "stdout",
     "output_type": "stream",
     "text": [
      "=====4/4=====\r"
     ]
    }
   ],
   "source": [
    "from bs4 import BeautifulSoup\n",
    "import requests\n",
    "import pandas as pd\n",
    "import os\n",
    "import re\n",
    "import time\n",
    "from random import *\n",
    "\n",
    "os.chdir('C:\\\\Users\\\\55754\\\\Documents\\\\야후파이낸스 재무재표')\n",
    "ticker=pd.read_csv('data/ticker/ticker.csv', index_col=0, header=0)\n",
    "#심볼을 리스트 화 해야한다.\n",
    "symbol='CEVA'\n",
    "#for i in symbol:\n",
    "for v, i in enumerate(symbol):\n",
    "    url='https://finance.yahoo.com/quote/%s/key-statistics?p=%s' %(i,i)\n",
    "    try :\n",
    "        r=requests.get(url)\n",
    "        soup=BeautifulSoup(r.text,\"lxml\")\n",
    "    #리스트 만들기\n",
    "        l=[]\n",
    "    #테이블당 크롤링\n",
    "        for a in soup.find_all('tbody'):\n",
    "            for b in a.find_all('tr'):\n",
    "                td=b.find_all('td')\n",
    "                content=[td[0].text, td[1].text]\n",
    "                l.append(content)\n",
    "                df=pd.DataFrame(l,columns=[\"index\",'value'])\n",
    "                df['value']=df['value'].str.replace(\"N/A\",'NA')\n",
    "                if True in df['value'].str.endswith(\"M\") :\n",
    "                    df['value'][df['value'].str.endswith(\"M\")]=(pd.to_numeric(df['value'][df['value'].str.endswith(\"M\")].str.replace('M',\"\"))*1000000).astype(\"str\")\n",
    "                if True in df['value'].str.endswith(\"B\") :\n",
    "                    df['value'][df['value'].str.endswith(\"B\")]=(pd.to_numeric(df['value'][df['value'].str.endswith(\"B\")].str.replace('B',\"\"))*1000000000).astype(\"str\")\n",
    "                df.to_csv('data\\\\statics\\\\%s.csv' %i)\n",
    "        time.sleep(randint(1,3)*randint(2,5))\n",
    "    except :\n",
    "        time.sleep(60)\n",
    "        print(\"error in %s\" %i)\n",
    "    finally :\n",
    "        print(\"=====%d/%d=====\" %(v+1,len(symbol)), end='\\r')"
   ]
  },
  {
   "cell_type": "code",
   "execution_count": 11,
   "metadata": {},
   "outputs": [],
   "source": [
    "i=\"PRS\"\n",
    "url='https://finance.yahoo.com/quote/%s/key-statistics?p=%s' %(i,i)\n",
    "\n",
    "r=requests.get(url)\n",
    "soup=BeautifulSoup(r.text,\"lxml\")\n",
    "    #리스트 만들기\n",
    "l=[]\n",
    "    #테이블당 크롤링\n",
    "for a in soup.find_all('tbody'):\n",
    "    for b in a.find_all('tr'):\n",
    "        td=b.find_all('td')\n",
    "        content=[td[0].text, td[1].text]\n",
    "        l.append(content)\n",
    "        df=pd.DataFrame(l,columns=[\"index\",'value'])\n",
    "        df['value']=df['value'].str.replace(\"N/A\",'NA')\n",
    "    if True in df['value'].str.endswith(\"M\") :\n",
    "        df['value'][df['value'].str.endswith(\"M\")]=(pd.to_numeric(df['value'][df['value'].str.endswith(\"M\")].str.replace('M',\"\"))*1000000).astype(\"str\")\n",
    "    if True in df['value'].str.endswith(\"B\") :\n",
    "        df['value'][df['value'].str.endswith(\"B\")]=(pd.to_numeric(df['value'][df['value'].str.endswith(\"B\")].str.replace('B',\"\"))*1000000000).astype(\"str\")\n",
    "    df.to_csv('data\\\\statics\\\\%s.csv' %i)"
   ]
  }
 ],
 "metadata": {
  "kernelspec": {
   "display_name": "Python 3",
   "language": "python",
   "name": "python3"
  },
  "language_info": {
   "codemirror_mode": {
    "name": "ipython",
    "version": 3
   },
   "file_extension": ".py",
   "mimetype": "text/x-python",
   "name": "python",
   "nbconvert_exporter": "python",
   "pygments_lexer": "ipython3",
   "version": "3.8.5"
  }
 },
 "nbformat": 4,
 "nbformat_minor": 4
}
